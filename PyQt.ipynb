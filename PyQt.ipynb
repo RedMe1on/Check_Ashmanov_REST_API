{
 "cells": [
  {
   "cell_type": "code",
   "execution_count": 1,
   "metadata": {},
   "outputs": [
    {
     "ename": "NameError",
     "evalue": "name 'self' is not defined",
     "output_type": "error",
     "traceback": [
      "\u001b[1;31m---------------------------------------------------------------------------\u001b[0m",
      "\u001b[1;31mNameError\u001b[0m                                 Traceback (most recent call last)",
      "\u001b[1;32m<ipython-input-1-e855dd7f4169>\u001b[0m in \u001b[0;36m<module>\u001b[1;34m\u001b[0m\n\u001b[0;32m      3\u001b[0m \u001b[1;32mimport\u001b[0m \u001b[0msys\u001b[0m\u001b[1;33m\u001b[0m\u001b[1;33m\u001b[0m\u001b[0m\n\u001b[0;32m      4\u001b[0m \u001b[1;33m\u001b[0m\u001b[0m\n\u001b[1;32m----> 5\u001b[1;33m \u001b[1;32mclass\u001b[0m \u001b[0mmywindow\u001b[0m\u001b[1;33m(\u001b[0m\u001b[0mQtWidgets\u001b[0m\u001b[1;33m.\u001b[0m\u001b[0mQMainWindow\u001b[0m\u001b[1;33m)\u001b[0m\u001b[1;33m:\u001b[0m\u001b[1;33m\u001b[0m\u001b[1;33m\u001b[0m\u001b[0m\n\u001b[0m\u001b[0;32m      6\u001b[0m     \u001b[1;32mdef\u001b[0m \u001b[0m__init__\u001b[0m\u001b[1;33m(\u001b[0m\u001b[0mself\u001b[0m\u001b[1;33m)\u001b[0m\u001b[1;33m:\u001b[0m\u001b[1;33m\u001b[0m\u001b[1;33m\u001b[0m\u001b[0m\n\u001b[0;32m      7\u001b[0m         \u001b[0msuper\u001b[0m\u001b[1;33m(\u001b[0m\u001b[0mmywindow\u001b[0m\u001b[1;33m,\u001b[0m \u001b[0mself\u001b[0m\u001b[1;33m)\u001b[0m\u001b[1;33m.\u001b[0m\u001b[0m__init__\u001b[0m\u001b[1;33m(\u001b[0m\u001b[1;33m)\u001b[0m\u001b[1;33m\u001b[0m\u001b[1;33m\u001b[0m\u001b[0m\n",
      "\u001b[1;32m<ipython-input-1-e855dd7f4169>\u001b[0m in \u001b[0;36mmywindow\u001b[1;34m()\u001b[0m\n\u001b[0;32m     20\u001b[0m \u001b[1;33m\u001b[0m\u001b[0m\n\u001b[0;32m     21\u001b[0m     \u001b[1;31m#  Меняем текст строки lineEdit\u001b[0m\u001b[1;33m\u001b[0m\u001b[1;33m\u001b[0m\u001b[1;33m\u001b[0m\u001b[0m\n\u001b[1;32m---> 22\u001b[1;33m     \u001b[0mself\u001b[0m\u001b[1;33m.\u001b[0m\u001b[0mui\u001b[0m\u001b[1;33m.\u001b[0m\u001b[0mlineEdit\u001b[0m\u001b[1;33m.\u001b[0m\u001b[0msetText\u001b[0m\u001b[1;33m(\u001b[0m\u001b[1;34m\"Привет, как тебе такое Илон Маск???????\"\u001b[0m\u001b[1;33m)\u001b[0m\u001b[1;33m\u001b[0m\u001b[1;33m\u001b[0m\u001b[0m\n\u001b[0m\u001b[0;32m     23\u001b[0m \u001b[1;33m\u001b[0m\u001b[0m\n\u001b[0;32m     24\u001b[0m     \u001b[1;31m#Указываем максимальную длину\u001b[0m\u001b[1;33m\u001b[0m\u001b[1;33m\u001b[0m\u001b[1;33m\u001b[0m\u001b[0m\n",
      "\u001b[1;31mNameError\u001b[0m: name 'self' is not defined"
     ]
    }
   ],
   "source": [
    "from PyQt5 import QtWidgets, QtGui, QtCore\n",
    "from mainwindows import Ui_MainWindow\n",
    "import sys\n",
    "\n",
    "class mywindow(QtWidgets.QMainWindow):\n",
    "    def __init__(self):\n",
    "        super(mywindow, self).__init__()\n",
    "        self.ui = Ui_MainWindow()\n",
    "        self.ui.setupUi(self)\n",
    "        # Меняем шрифт\n",
    "        self.ui.label.setFont(\n",
    "            QtGui.QFont('SanSerif', 30)\n",
    "        )\n",
    "        # Меняем геометрию блока\n",
    "        self.ui.label.setGeometry(\n",
    "            QtCore.QRect(10, 10, 200, 200)\n",
    "        )\n",
    "        # Меняем текст ярлыка\n",
    "        self.ui.label.setText(\"Вау, вот это ты дурачок!\")\n",
    "        \n",
    "    #  Меняем текст строки lineEdit\n",
    "    self.ui.lineEdit.setText(\"Привет, как тебе такое Илон Маск???????\")\n",
    "    \n",
    "    #Указываем максимальную длину\n",
    "    self.ui.lineEdit_2.setMaxLenght(10)\n",
    "    \n",
    "    #ввод пароля\n",
    "    \n",
    "    self.ui.LineEdit_3.setEchoMode(QtWidgets.QLineEdit.Password)\n",
    "    \n",
    "    #только для чтения строка без изменения\n",
    "    \n",
    "    self.ui.lineEdit_4.setReadOnly(True)\n",
    "    \n",
    "    #меняем цвет вводимого текста\n",
    "    \n",
    "    self.ui.lineEdit_5.setStyleSheet(\"color: rgb(28, 43m 255);\")\n",
    "    \n",
    "    \n",
    "app = QtWidgets.QApplication([])\n",
    "application = mywindow()\n",
    "application.show()\n",
    "\n",
    "sys.exit(app.exec())\n",
    "        \n",
    "    \n",
    "\n"
   ]
  },
  {
   "cell_type": "code",
   "execution_count": null,
   "metadata": {},
   "outputs": [],
   "source": []
  },
  {
   "cell_type": "code",
   "execution_count": null,
   "metadata": {},
   "outputs": [],
   "source": []
  }
 ],
 "metadata": {
  "kernelspec": {
   "display_name": "Python 3",
   "language": "python",
   "name": "python3"
  },
  "language_info": {
   "codemirror_mode": {
    "name": "ipython",
    "version": 3
   },
   "file_extension": ".py",
   "mimetype": "text/x-python",
   "name": "python",
   "nbconvert_exporter": "python",
   "pygments_lexer": "ipython3",
   "version": "3.7.2"
  }
 },
 "nbformat": 4,
 "nbformat_minor": 2
}
