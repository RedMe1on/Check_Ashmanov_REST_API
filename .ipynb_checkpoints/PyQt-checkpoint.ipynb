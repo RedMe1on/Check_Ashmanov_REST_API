{
 "cells": [
  {
   "cell_type": "code",
   "execution_count": null,
   "metadata": {},
   "outputs": [],
   "source": [
    "from PyQt5 import QtWidgets, QtGui, QtCore\n",
    "from mainwindows import Ui_MainWindow\n",
    "import sys\n",
    "\n",
    "class mywindow(QtWidgets.QMainWindow):\n",
    "    def __init__(self):\n",
    "        super(mywindow, self).__init__()\n",
    "        self.ui = Ui_MainWindow()\n",
    "        self.ui.setupUi(self)\n",
    "        # Меняем шрифт\n",
    "        self.ui.label.setFont(\n",
    "            QtGui.QFont('SanSerif', 30)\n",
    "        )\n",
    "        # Меняем геометрию блока\n",
    "        self.ui.label.setGeometry(\n",
    "            QtCore.QRect(10, 10, 200, 200)\n",
    "        )\n",
    "        # Меняем текст ярлыка\n",
    "        self.ui.label.setText(\"Вау, вот это ты дурачок!\")\n",
    "        \n",
    "    #  Меняем текст строки lineEdit\n",
    "    self.ui.lineEdit.setText(\"Привет, как тебе такое Илон Маск???????\")\n",
    "    \n",
    "    #Указываем максимальную длину\n",
    "    self.ui.lineEdit_2.setMaxLenght(10)\n",
    "    \n",
    "    #ввод пароля\n",
    "    \n",
    "    self.ui.LineEdit_3.setEchoMode(QtWidgets.QLineEdit.Password)\n",
    "    \n",
    "    #только для чтения строка без изменения\n",
    "    \n",
    "    self.ui.lineEdit_4.setReadOnly(True)\n",
    "    \n",
    "    #меняем цвет вводимого текста\n",
    "    \n",
    "    self.ui.lineEdit_5.setStyleSheet(\"color: rgb(28, 43m 255);\")\n",
    "    \n",
    "    \n",
    "app = QtWidgets.QApplication([])\n",
    "application = mywindow()\n",
    "application.show()\n",
    "\n",
    "sys.exit(app.exec())\n",
    "        \n",
    "    \n",
    "\n"
   ]
  },
  {
   "cell_type": "code",
   "execution_count": null,
   "metadata": {},
   "outputs": [],
   "source": []
  },
  {
   "cell_type": "code",
   "execution_count": null,
   "metadata": {},
   "outputs": [],
   "source": []
  }
 ],
 "metadata": {
  "kernelspec": {
   "display_name": "Python 3",
   "language": "python",
   "name": "python3"
  },
  "language_info": {
   "codemirror_mode": {
    "name": "ipython",
    "version": 3
   },
   "file_extension": ".py",
   "mimetype": "text/x-python",
   "name": "python",
   "nbconvert_exporter": "python",
   "pygments_lexer": "ipython3",
   "version": "3.7.2"
  }
 },
 "nbformat": 4,
 "nbformat_minor": 2
}
